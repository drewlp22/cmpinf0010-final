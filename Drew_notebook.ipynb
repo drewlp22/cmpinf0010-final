{
 "cells": [
  {
   "cell_type": "markdown",
   "metadata": {},
   "source": [
    "# Road Obstructions\n",
    "\n",
    "The dataset I chose to analyze is the 311 calls dataset which includes reports of street obstructions and potholes, which would be necessary to avoid for a quality racing experience.\n",
    "\n",
    "As always, lets import all modules for data analysis."
   ]
  },
  {
   "cell_type": "code",
   "execution_count": 13,
   "metadata": {},
   "outputs": [],
   "source": [
    "import pandas as pd\n",
    "import numpy as np\n",
    "%matplotlib inline\n",
    "import matplotlib.pyplot as plt\n",
    "import geopandas"
   ]
  },
  {
   "cell_type": "markdown",
   "metadata": {},
   "source": [
    "The 311 data is available as a `.csv` on the WPRDC website, so we can dowload it and convert it into a `pandas.DataFrame` using the following code:"
   ]
  },
  {
   "cell_type": "code",
   "execution_count": 2,
   "metadata": {},
   "outputs": [],
   "source": [
    "# three11_data = pd.read_csv(\"https://data.wprdc.org/datastore/dump/76fda9d0-69be-4dd5-8108-0de7907fc5a4\")\n",
    "#Alternate command\n",
    "three11_data = pd.read_csv('76fda9d0-69be-4dd5-8108-0de7907fc5a4.csv')"
   ]
  },
  {
   "cell_type": "markdown",
   "metadata": {},
   "source": [
    "Next we can filter the 311 dataset into just street obstruction, potholes, and other road issues. We then call `.sample()` in order to verify that our code worked."
   ]
  },
  {
   "cell_type": "code",
   "execution_count": 8,
   "metadata": {},
   "outputs": [
    {
     "data": {
      "text/html": [
       "<div>\n",
       "<style scoped>\n",
       "    .dataframe tbody tr th:only-of-type {\n",
       "        vertical-align: middle;\n",
       "    }\n",
       "\n",
       "    .dataframe tbody tr th {\n",
       "        vertical-align: top;\n",
       "    }\n",
       "\n",
       "    .dataframe thead th {\n",
       "        text-align: right;\n",
       "    }\n",
       "</style>\n",
       "<table border=\"1\" class=\"dataframe\">\n",
       "  <thead>\n",
       "    <tr style=\"text-align: right;\">\n",
       "      <th></th>\n",
       "      <th>REQUEST_ID</th>\n",
       "      <th>CREATED_ON</th>\n",
       "      <th>REQUEST_TYPE</th>\n",
       "      <th>REQUEST_ORIGIN</th>\n",
       "      <th>STATUS</th>\n",
       "      <th>DEPARTMENT</th>\n",
       "      <th>NEIGHBORHOOD</th>\n",
       "      <th>COUNCIL_DISTRICT</th>\n",
       "      <th>WARD</th>\n",
       "      <th>TRACT</th>\n",
       "      <th>PUBLIC_WORKS_DIVISION</th>\n",
       "      <th>PLI_DIVISION</th>\n",
       "      <th>POLICE_ZONE</th>\n",
       "      <th>FIRE_ZONE</th>\n",
       "      <th>X</th>\n",
       "      <th>Y</th>\n",
       "      <th>GEO_ACCURACY</th>\n",
       "    </tr>\n",
       "  </thead>\n",
       "  <tbody>\n",
       "    <tr>\n",
       "      <th>151780</th>\n",
       "      <td>57726.0</td>\n",
       "      <td>2016-03-28T13:16:00</td>\n",
       "      <td>Potholes</td>\n",
       "      <td>Call Center</td>\n",
       "      <td>1</td>\n",
       "      <td>DPW - Street Maintenance</td>\n",
       "      <td>Central Lawrenceville</td>\n",
       "      <td>7.0</td>\n",
       "      <td>9.0</td>\n",
       "      <td>4.200309e+10</td>\n",
       "      <td>2.0</td>\n",
       "      <td>9.0</td>\n",
       "      <td>2.0</td>\n",
       "      <td>3-3</td>\n",
       "      <td>-79.956580</td>\n",
       "      <td>40.467562</td>\n",
       "      <td>EXACT</td>\n",
       "    </tr>\n",
       "    <tr>\n",
       "      <th>510873</th>\n",
       "      <td>528654.0</td>\n",
       "      <td>2021-06-01T08:28:00</td>\n",
       "      <td>Potholes</td>\n",
       "      <td>Website</td>\n",
       "      <td>1</td>\n",
       "      <td>DPW - Street Maintenance</td>\n",
       "      <td>Garfield</td>\n",
       "      <td>9.0</td>\n",
       "      <td>10.0</td>\n",
       "      <td>4.200310e+10</td>\n",
       "      <td>2.0</td>\n",
       "      <td>10.0</td>\n",
       "      <td>5.0</td>\n",
       "      <td>3-4</td>\n",
       "      <td>-79.944289</td>\n",
       "      <td>40.471018</td>\n",
       "      <td>EXACT</td>\n",
       "    </tr>\n",
       "    <tr>\n",
       "      <th>247592</th>\n",
       "      <td>259887.0</td>\n",
       "      <td>2018-06-15T13:22:00</td>\n",
       "      <td>Potholes</td>\n",
       "      <td>Call Center</td>\n",
       "      <td>3</td>\n",
       "      <td>DPW - Street Maintenance</td>\n",
       "      <td>Upper Lawrenceville</td>\n",
       "      <td>7.0</td>\n",
       "      <td>10.0</td>\n",
       "      <td>4.200310e+10</td>\n",
       "      <td>2.0</td>\n",
       "      <td>10.0</td>\n",
       "      <td>2.0</td>\n",
       "      <td>3-5</td>\n",
       "      <td>-79.949741</td>\n",
       "      <td>40.484527</td>\n",
       "      <td>EXACT</td>\n",
       "    </tr>\n",
       "    <tr>\n",
       "      <th>96410</th>\n",
       "      <td>126512.0</td>\n",
       "      <td>2017-01-20T11:51:00</td>\n",
       "      <td>Potholes</td>\n",
       "      <td>Website</td>\n",
       "      <td>1</td>\n",
       "      <td>DPW - Street Maintenance</td>\n",
       "      <td>Lower Lawrenceville</td>\n",
       "      <td>7.0</td>\n",
       "      <td>6.0</td>\n",
       "      <td>4.200309e+10</td>\n",
       "      <td>2.0</td>\n",
       "      <td>6.0</td>\n",
       "      <td>2.0</td>\n",
       "      <td>3-3</td>\n",
       "      <td>-79.966906</td>\n",
       "      <td>40.471717</td>\n",
       "      <td>EXACT</td>\n",
       "    </tr>\n",
       "    <tr>\n",
       "      <th>137775</th>\n",
       "      <td>79238.0</td>\n",
       "      <td>2016-06-15T12:15:00</td>\n",
       "      <td>Potholes</td>\n",
       "      <td>Call Center</td>\n",
       "      <td>1</td>\n",
       "      <td>DPW - Street Maintenance</td>\n",
       "      <td>Central Northside</td>\n",
       "      <td>1.0</td>\n",
       "      <td>25.0</td>\n",
       "      <td>4.200322e+10</td>\n",
       "      <td>1.0</td>\n",
       "      <td>25.0</td>\n",
       "      <td>1.0</td>\n",
       "      <td>1-6</td>\n",
       "      <td>-80.005883</td>\n",
       "      <td>40.457543</td>\n",
       "      <td>EXACT</td>\n",
       "    </tr>\n",
       "    <tr>\n",
       "      <th>257921</th>\n",
       "      <td>270745.0</td>\n",
       "      <td>2018-07-16T12:13:00</td>\n",
       "      <td>Potholes</td>\n",
       "      <td>Website</td>\n",
       "      <td>1</td>\n",
       "      <td>DPW - Street Maintenance</td>\n",
       "      <td>East Carnegie</td>\n",
       "      <td>2.0</td>\n",
       "      <td>28.0</td>\n",
       "      <td>4.200356e+10</td>\n",
       "      <td>5.0</td>\n",
       "      <td>28.0</td>\n",
       "      <td>6.0</td>\n",
       "      <td>1-19</td>\n",
       "      <td>-80.074023</td>\n",
       "      <td>40.417891</td>\n",
       "      <td>EXACT</td>\n",
       "    </tr>\n",
       "    <tr>\n",
       "      <th>200591</th>\n",
       "      <td>212743.0</td>\n",
       "      <td>2018-01-25T08:05:00</td>\n",
       "      <td>Potholes</td>\n",
       "      <td>Call Center</td>\n",
       "      <td>1</td>\n",
       "      <td>DPW - Street Maintenance</td>\n",
       "      <td>Brookline</td>\n",
       "      <td>4.0</td>\n",
       "      <td>32.0</td>\n",
       "      <td>4.200332e+10</td>\n",
       "      <td>5.0</td>\n",
       "      <td>32.0</td>\n",
       "      <td>6.0</td>\n",
       "      <td>4-26</td>\n",
       "      <td>-80.011257</td>\n",
       "      <td>40.393181</td>\n",
       "      <td>EXACT</td>\n",
       "    </tr>\n",
       "    <tr>\n",
       "      <th>176923</th>\n",
       "      <td>21885.0</td>\n",
       "      <td>2015-09-01T10:11:00</td>\n",
       "      <td>Potholes</td>\n",
       "      <td>Call Center</td>\n",
       "      <td>1</td>\n",
       "      <td>DPW - Street Maintenance</td>\n",
       "      <td>Point Breeze</td>\n",
       "      <td>8.0</td>\n",
       "      <td>14.0</td>\n",
       "      <td>4.200314e+10</td>\n",
       "      <td>3.0</td>\n",
       "      <td>14.0</td>\n",
       "      <td>4.0</td>\n",
       "      <td>2-17</td>\n",
       "      <td>-79.920731</td>\n",
       "      <td>40.449782</td>\n",
       "      <td>EXACT</td>\n",
       "    </tr>\n",
       "    <tr>\n",
       "      <th>503512</th>\n",
       "      <td>521289.0</td>\n",
       "      <td>2021-05-06T13:00:00</td>\n",
       "      <td>Street Obstruction/Closure</td>\n",
       "      <td>Call Center</td>\n",
       "      <td>1</td>\n",
       "      <td>DOMI - Permits</td>\n",
       "      <td>Bloomfield</td>\n",
       "      <td>7.0</td>\n",
       "      <td>8.0</td>\n",
       "      <td>4.200308e+10</td>\n",
       "      <td>2.0</td>\n",
       "      <td>8.0</td>\n",
       "      <td>5.0</td>\n",
       "      <td>3-6</td>\n",
       "      <td>-79.948472</td>\n",
       "      <td>40.461209</td>\n",
       "      <td>EXACT</td>\n",
       "    </tr>\n",
       "    <tr>\n",
       "      <th>77287</th>\n",
       "      <td>145041.0</td>\n",
       "      <td>2017-04-12T12:55:00</td>\n",
       "      <td>Potholes</td>\n",
       "      <td>Call Center</td>\n",
       "      <td>1</td>\n",
       "      <td>DPW - Street Maintenance</td>\n",
       "      <td>Brookline</td>\n",
       "      <td>4.0</td>\n",
       "      <td>19.0</td>\n",
       "      <td>4.200319e+10</td>\n",
       "      <td>5.0</td>\n",
       "      <td>19.0</td>\n",
       "      <td>6.0</td>\n",
       "      <td>4-26</td>\n",
       "      <td>-80.017344</td>\n",
       "      <td>40.404718</td>\n",
       "      <td>EXACT</td>\n",
       "    </tr>\n",
       "  </tbody>\n",
       "</table>\n",
       "</div>"
      ],
      "text/plain": [
       "        REQUEST_ID           CREATED_ON                REQUEST_TYPE  \\\n",
       "151780     57726.0  2016-03-28T13:16:00                    Potholes   \n",
       "510873    528654.0  2021-06-01T08:28:00                    Potholes   \n",
       "247592    259887.0  2018-06-15T13:22:00                    Potholes   \n",
       "96410     126512.0  2017-01-20T11:51:00                    Potholes   \n",
       "137775     79238.0  2016-06-15T12:15:00                    Potholes   \n",
       "257921    270745.0  2018-07-16T12:13:00                    Potholes   \n",
       "200591    212743.0  2018-01-25T08:05:00                    Potholes   \n",
       "176923     21885.0  2015-09-01T10:11:00                    Potholes   \n",
       "503512    521289.0  2021-05-06T13:00:00  Street Obstruction/Closure   \n",
       "77287     145041.0  2017-04-12T12:55:00                    Potholes   \n",
       "\n",
       "       REQUEST_ORIGIN  STATUS                DEPARTMENT  \\\n",
       "151780    Call Center       1  DPW - Street Maintenance   \n",
       "510873        Website       1  DPW - Street Maintenance   \n",
       "247592    Call Center       3  DPW - Street Maintenance   \n",
       "96410         Website       1  DPW - Street Maintenance   \n",
       "137775    Call Center       1  DPW - Street Maintenance   \n",
       "257921        Website       1  DPW - Street Maintenance   \n",
       "200591    Call Center       1  DPW - Street Maintenance   \n",
       "176923    Call Center       1  DPW - Street Maintenance   \n",
       "503512    Call Center       1            DOMI - Permits   \n",
       "77287     Call Center       1  DPW - Street Maintenance   \n",
       "\n",
       "                 NEIGHBORHOOD  COUNCIL_DISTRICT  WARD         TRACT  \\\n",
       "151780  Central Lawrenceville               7.0   9.0  4.200309e+10   \n",
       "510873               Garfield               9.0  10.0  4.200310e+10   \n",
       "247592    Upper Lawrenceville               7.0  10.0  4.200310e+10   \n",
       "96410     Lower Lawrenceville               7.0   6.0  4.200309e+10   \n",
       "137775      Central Northside               1.0  25.0  4.200322e+10   \n",
       "257921          East Carnegie               2.0  28.0  4.200356e+10   \n",
       "200591              Brookline               4.0  32.0  4.200332e+10   \n",
       "176923           Point Breeze               8.0  14.0  4.200314e+10   \n",
       "503512             Bloomfield               7.0   8.0  4.200308e+10   \n",
       "77287               Brookline               4.0  19.0  4.200319e+10   \n",
       "\n",
       "        PUBLIC_WORKS_DIVISION  PLI_DIVISION  POLICE_ZONE FIRE_ZONE          X  \\\n",
       "151780                    2.0           9.0          2.0       3-3 -79.956580   \n",
       "510873                    2.0          10.0          5.0       3-4 -79.944289   \n",
       "247592                    2.0          10.0          2.0       3-5 -79.949741   \n",
       "96410                     2.0           6.0          2.0       3-3 -79.966906   \n",
       "137775                    1.0          25.0          1.0       1-6 -80.005883   \n",
       "257921                    5.0          28.0          6.0      1-19 -80.074023   \n",
       "200591                    5.0          32.0          6.0      4-26 -80.011257   \n",
       "176923                    3.0          14.0          4.0      2-17 -79.920731   \n",
       "503512                    2.0           8.0          5.0       3-6 -79.948472   \n",
       "77287                     5.0          19.0          6.0      4-26 -80.017344   \n",
       "\n",
       "                Y GEO_ACCURACY  \n",
       "151780  40.467562        EXACT  \n",
       "510873  40.471018        EXACT  \n",
       "247592  40.484527        EXACT  \n",
       "96410   40.471717        EXACT  \n",
       "137775  40.457543        EXACT  \n",
       "257921  40.417891        EXACT  \n",
       "200591  40.393181        EXACT  \n",
       "176923  40.449782        EXACT  \n",
       "503512  40.461209        EXACT  \n",
       "77287   40.404718        EXACT  "
      ]
     },
     "execution_count": 8,
     "metadata": {},
     "output_type": "execute_result"
    }
   ],
   "source": [
    "road_obstructions = three11_data[(three11_data.REQUEST_TYPE == \"Street Obstruction/Closure\")|(three11_data.REQUEST_TYPE == \"Potholes\")|(three11_data.REQUEST_TYPE == \"Road\")]\n",
    "road_obstructions.sample(10)"
   ]
  },
  {
   "cell_type": "markdown",
   "metadata": {},
   "source": [
    "The 311 dataset contains a lot of extraneous data that we do not need for now, so we can create a `Series` that has each neighborhood and its total number of road obstructions. The `value_counts()` method will automatically create this for us."
   ]
  },
  {
   "cell_type": "code",
   "execution_count": 14,
   "metadata": {},
   "outputs": [
    {
     "data": {
      "text/plain": [
       "Brookline                3782\n",
       "Squirrel Hill South      2762\n",
       "Bloomfield               2667\n",
       "Carrick                  2593\n",
       "Central Lawrenceville    1802\n",
       "Name: NEIGHBORHOOD, dtype: int64"
      ]
     },
     "execution_count": 14,
     "metadata": {},
     "output_type": "execute_result"
    }
   ],
   "source": [
    "num_ro = road_obstructions['NEIGHBORHOOD'].value_counts()\n",
    "num_ro.head()"
   ]
  },
  {
   "cell_type": "markdown",
   "metadata": {},
   "source": [
    "Now, let's take a look at neighborhoods with the most and least number of road obstructions:"
   ]
  },
  {
   "cell_type": "code",
   "execution_count": 64,
   "metadata": {},
   "outputs": [
    {
     "data": {
      "text/plain": [
       "<matplotlib.axes._subplots.AxesSubplot at 0x7ff208a736d0>"
      ]
     },
     "execution_count": 64,
     "metadata": {},
     "output_type": "execute_result"
    },
    {
     "data": {
      "image/png": "[encoded data removed]",
      "text/plain": [
       "<Figure size 432x288 with 1 Axes>"
      ]
     },
     "metadata": {
      "needs_background": "light"
     },
     "output_type": "display_data"
    }
   ],
   "source": [
    "num_ro.head(10).plot.bar()"
   ]
  },
  {
   "cell_type": "code",
   "execution_count": 25,
   "metadata": {},
   "outputs": [
    {
     "data": {
      "text/plain": [
       "<matplotlib.axes._subplots.AxesSubplot at 0x7ff20d9aaa90>"
      ]
     },
     "execution_count": 25,
     "metadata": {},
     "output_type": "execute_result"
    },
    {
     "data": {
      "image/png": "[encoded data removed]",
      "text/plain": [
       "<Figure size 432x288 with 1 Axes>"
      ]
     },
     "metadata": {
      "needs_background": "light"
     },
     "output_type": "display_data"
    }
   ],
   "source": [
    "num_ro.tail(10).plot.bar()"
   ]
  },
  {
   "cell_type": "markdown",
   "metadata": {},
   "source": [
    "Now, we can plot the number of potholes onto a map. To do this, we use `geopandas` and `Neighborhoods_.shp` which contains map data for each neighborhood in Pittsburgh."
   ]
  },
  {
   "cell_type": "code",
   "execution_count": 15,
   "metadata": {},
   "outputs": [],
   "source": [
    "neighborhoods = geopandas.read_file(\"Neighborhoods/Neighborhoods_.shp\")"
   ]
  },
  {
   "cell_type": "markdown",
   "metadata": {},
   "source": [
    "Now we can `merge` our `num_ro` dataset with our `neighborhoods` GeoDataFrame, which will give us a map with each count of road obstructions mapped on each neighborghood of Pittsburgh."
   ]
  },
  {
   "cell_type": "code",
   "execution_count": 16,
   "metadata": {},
   "outputs": [
    {
     "data": {
      "text/plain": [
       "<matplotlib.axes._subplots.AxesSubplot at 0x7f619b4085b0>"
      ]
     },
     "execution_count": 16,
     "metadata": {},
     "output_type": "execute_result"
    },
    {
     "data": {
      "image/png": "[encoded data removed]",
      "text/plain": [
       "<Figure size 432x288 with 2 Axes>"
      ]
     },
     "metadata": {
      "needs_background": "light"
     },
     "output_type": "display_data"
    }
   ],
   "source": [
    "pm = pd.DataFrame({'neighborhood': num_ro.axes[0], 'obs': num_ro.values})\n",
    "ro_map = neighborhoods.merge(pm, how='left', left_on='hood', right_on='neighborhood')\n",
    "ro_map.plot(column='obs',legend=True)"
   ]
  },
  {
   "cell_type": "markdown",
   "metadata": {},
   "source": [
    "Looking at the map, we can notice a problem with this: the larger neighborhoods almost universally have more potholes than smaller ones.\n",
    "\n",
    "To account for this, we can calculate the density of road obstructions. Fortunately, the `Neighborhoods_.shp` file contains the area of each neighborhood, measured in square miles. We can add a new column to the `ro_map` dataframe with the density of road obstructions, which we can calculate as such:"
   ]
  },
  {
   "cell_type": "code",
   "execution_count": 17,
   "metadata": {},
   "outputs": [],
   "source": [
    "ipsm = []\n",
    "\n",
    "for index, row in ro_map.iterrows():\n",
    "    ipsm.append(row[\"obs\"] / row[\"sqmiles\"])\n",
    "\n",
    "ro_map[\"incident_density\"] = ipsm"
   ]
  },
  {
   "cell_type": "markdown",
   "metadata": {},
   "source": [
    "With our new data, let's plot the density of street obstructions on the map."
   ]
  },
  {
   "cell_type": "code",
   "execution_count": 105,
   "metadata": {},
   "outputs": [
    {
     "data": {
      "text/plain": [
       "<matplotlib.axes._subplots.AxesSubplot at 0x7f927f94d8b0>"
      ]
     },
     "execution_count": 105,
     "metadata": {},
     "output_type": "execute_result"
    },
    {
     "data": {
      "image/png": "[encoded data removed]",
      "text/plain": [
       "<Figure size 432x288 with 2 Axes>"
      ]
     },
     "metadata": {
      "needs_background": "light"
     },
     "output_type": "display_data"
    }
   ],
   "source": [
    "ro_map.plot(column='incident_density',legend=True)"
   ]
  },
  {
   "cell_type": "markdown",
   "metadata": {},
   "source": [
    "This plot makes much more sense, we can see that there are more potholes in the north-east neighborhoods, now let's look at which neighborhoods have the most and least potholes, sorted by density."
   ]
  },
  {
   "cell_type": "code",
   "execution_count": 22,
   "metadata": {},
   "outputs": [
    {
     "data": {
      "text/html": [
       "<div>\n",
       "<style scoped>\n",
       "    .dataframe tbody tr th:only-of-type {\n",
       "        vertical-align: middle;\n",
       "    }\n",
       "\n",
       "    .dataframe tbody tr th {\n",
       "        vertical-align: top;\n",
       "    }\n",
       "\n",
       "    .dataframe thead th {\n",
       "        text-align: right;\n",
       "    }\n",
       "</style>\n",
       "<table border=\"1\" class=\"dataframe\">\n",
       "  <thead>\n",
       "    <tr style=\"text-align: right;\">\n",
       "      <th></th>\n",
       "      <th>neighborhood</th>\n",
       "      <th>incident_density</th>\n",
       "    </tr>\n",
       "  </thead>\n",
       "  <tbody>\n",
       "    <tr>\n",
       "      <th>19</th>\n",
       "      <td>Lincoln-Lemington-Belmar</td>\n",
       "      <td>5096.428571</td>\n",
       "    </tr>\n",
       "    <tr>\n",
       "      <th>31</th>\n",
       "      <td>Bloomfield</td>\n",
       "      <td>3799.145299</td>\n",
       "    </tr>\n",
       "    <tr>\n",
       "      <th>48</th>\n",
       "      <td>Friendship</td>\n",
       "      <td>2962.264151</td>\n",
       "    </tr>\n",
       "    <tr>\n",
       "      <th>70</th>\n",
       "      <td>Marshall-Shadeland</td>\n",
       "      <td>2722.943723</td>\n",
       "    </tr>\n",
       "    <tr>\n",
       "      <th>42</th>\n",
       "      <td>Morningside</td>\n",
       "      <td>2625.654450</td>\n",
       "    </tr>\n",
       "    <tr>\n",
       "      <th>0</th>\n",
       "      <td>Central Oakland</td>\n",
       "      <td>2622.775801</td>\n",
       "    </tr>\n",
       "    <tr>\n",
       "      <th>57</th>\n",
       "      <td>Knoxville</td>\n",
       "      <td>2579.470199</td>\n",
       "    </tr>\n",
       "    <tr>\n",
       "      <th>77</th>\n",
       "      <td>East Liberty</td>\n",
       "      <td>2380.378657</td>\n",
       "    </tr>\n",
       "    <tr>\n",
       "      <th>69</th>\n",
       "      <td>Point Breeze North</td>\n",
       "      <td>2188.811189</td>\n",
       "    </tr>\n",
       "    <tr>\n",
       "      <th>61</th>\n",
       "      <td>Polish Hill</td>\n",
       "      <td>2105.882353</td>\n",
       "    </tr>\n",
       "  </tbody>\n",
       "</table>\n",
       "</div>"
      ],
      "text/plain": [
       "                neighborhood  incident_density\n",
       "19  Lincoln-Lemington-Belmar       5096.428571\n",
       "31                Bloomfield       3799.145299\n",
       "48                Friendship       2962.264151\n",
       "70        Marshall-Shadeland       2722.943723\n",
       "42               Morningside       2625.654450\n",
       "0            Central Oakland       2622.775801\n",
       "57                 Knoxville       2579.470199\n",
       "77              East Liberty       2380.378657\n",
       "69        Point Breeze North       2188.811189\n",
       "61               Polish Hill       2105.882353"
      ]
     },
     "execution_count": 22,
     "metadata": {},
     "output_type": "execute_result"
    }
   ],
   "source": [
    "ro_map.filter(['neighborhood', 'incident_density']).sort_values('incident_density', ascending=False).head(10)"
   ]
  },
  {
   "cell_type": "markdown",
   "metadata": {},
   "source": [
    "Over the course of the last 6 years, Lincoln-Lemington-Belmar has had an incredible 5000 potholes per square mile! I actually can personally relate because I used to drive on Lincoln Ave on the way to school.\n",
    "\n",
    "I went back to Google Maps to take a look at the roads:\n",
    "\n",
    "![1](https://i.imgur.com/T864ZF9.jpg)\n",
    "![2](https://i.imgur.com/8vXdaaC.jpg)\n",
    "\n",
    "Probably wasn't the best for the suspension on my Nissan. As of 2022, both of these roads have ben paved since these images were taken."
   ]
  },
  {
   "cell_type": "markdown",
   "metadata": {},
   "source": [
    "## Best Roads\n",
    "Now we can sort our neighborhoods by which one have the least amount of potholes and road obstructions (by density)"
   ]
  },
  {
   "cell_type": "code",
   "execution_count": 23,
   "metadata": {},
   "outputs": [
    {
     "data": {
      "text/html": [
       "<div>\n",
       "<style scoped>\n",
       "    .dataframe tbody tr th:only-of-type {\n",
       "        vertical-align: middle;\n",
       "    }\n",
       "\n",
       "    .dataframe tbody tr th {\n",
       "        vertical-align: top;\n",
       "    }\n",
       "\n",
       "    .dataframe thead th {\n",
       "        text-align: right;\n",
       "    }\n",
       "</style>\n",
       "<table border=\"1\" class=\"dataframe\">\n",
       "  <thead>\n",
       "    <tr style=\"text-align: right;\">\n",
       "      <th></th>\n",
       "      <th>neighborhood</th>\n",
       "      <th>incident_density</th>\n",
       "    </tr>\n",
       "  </thead>\n",
       "  <tbody>\n",
       "    <tr>\n",
       "      <th>68</th>\n",
       "      <td>Hays</td>\n",
       "      <td>82.285714</td>\n",
       "    </tr>\n",
       "    <tr>\n",
       "      <th>88</th>\n",
       "      <td>Glen Hazel</td>\n",
       "      <td>87.719298</td>\n",
       "    </tr>\n",
       "    <tr>\n",
       "      <th>83</th>\n",
       "      <td>Fairywood</td>\n",
       "      <td>173.374613</td>\n",
       "    </tr>\n",
       "    <tr>\n",
       "      <th>78</th>\n",
       "      <td>East Carnegie</td>\n",
       "      <td>208.333333</td>\n",
       "    </tr>\n",
       "    <tr>\n",
       "      <th>63</th>\n",
       "      <td>Arlington Heights</td>\n",
       "      <td>219.696970</td>\n",
       "    </tr>\n",
       "    <tr>\n",
       "      <th>50</th>\n",
       "      <td>St. Clair</td>\n",
       "      <td>245.161290</td>\n",
       "    </tr>\n",
       "    <tr>\n",
       "      <th>79</th>\n",
       "      <td>New Homestead</td>\n",
       "      <td>292.191436</td>\n",
       "    </tr>\n",
       "    <tr>\n",
       "      <th>85</th>\n",
       "      <td>Ridgemont</td>\n",
       "      <td>322.493225</td>\n",
       "    </tr>\n",
       "    <tr>\n",
       "      <th>9</th>\n",
       "      <td>Northview Heights</td>\n",
       "      <td>383.386581</td>\n",
       "    </tr>\n",
       "    <tr>\n",
       "      <th>84</th>\n",
       "      <td>Chartiers City</td>\n",
       "      <td>431.818182</td>\n",
       "    </tr>\n",
       "  </tbody>\n",
       "</table>\n",
       "</div>"
      ],
      "text/plain": [
       "         neighborhood  incident_density\n",
       "68               Hays         82.285714\n",
       "88         Glen Hazel         87.719298\n",
       "83          Fairywood        173.374613\n",
       "78      East Carnegie        208.333333\n",
       "63  Arlington Heights        219.696970\n",
       "50          St. Clair        245.161290\n",
       "79      New Homestead        292.191436\n",
       "85          Ridgemont        322.493225\n",
       "9   Northview Heights        383.386581\n",
       "84     Chartiers City        431.818182"
      ]
     },
     "execution_count": 23,
     "metadata": {},
     "output_type": "execute_result"
    }
   ],
   "source": [
    "ro_map.filter(['neighborhood', 'incident_density']).sort_values('incident_density', ascending=True).head(10)"
   ]
  },
  {
   "cell_type": "code",
   "execution_count": null,
   "metadata": {},
   "outputs": [],
   "source": []
  }
 ],
 "metadata": {
  "kernelspec": {
   "display_name": "Python 3",
   "language": "python",
   "name": "python3"
  },
  "language_info": {
   "codemirror_mode": {
    "name": "ipython",
    "version": 3
   },
   "file_extension": ".py",
   "mimetype": "text/x-python",
   "name": "python",
   "nbconvert_exporter": "python",
   "pygments_lexer": "ipython3",
   "version": "3.8.3"
  }
 },
 "nbformat": 4,
 "nbformat_minor": 4
}
