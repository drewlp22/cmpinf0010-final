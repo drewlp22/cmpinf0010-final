{
 "cells": [
  {
   "cell_type": "markdown",
   "metadata": {},
   "source": [
    "# Cole's Metric"
   ]
  },
  {
   "cell_type": "markdown",
   "metadata": {},
   "source": [
    "One way to measure a neighborhood's ability to hold a street race is to measure how many speed bumps are in the neighborhood. In our case `MORE SPEEDBUMPS = MORE DANGEROUS` which is not good when considering a race track"
   ]
  },
  {
   "cell_type": "code",
   "execution_count": 4,
   "metadata": {},
   "outputs": [],
   "source": [
    "import pandas as pd\n",
    "import numpy as np\n",
    "%matplotlib inline\n",
    "import matplotlib.pyplot as plt\n",
    "import geopandas"
   ]
  },
  {
   "cell_type": "markdown",
   "metadata": {},
   "source": [
    "## Getting the data"
   ]
  },
  {
   "cell_type": "markdown",
   "metadata": {},
   "source": [
    "Below is a data set pulledfrom the WPRDC on all of the speed bumps in Pittsburgh. Each speed bump is described using data like location, what it is made of, and its id"
   ]
  },
  {
   "cell_type": "code",
   "execution_count": 5,
   "metadata": {},
   "outputs": [
    {
     "data": {
      "text/html": [
       "<div>\n",
       "<style scoped>\n",
       "    .dataframe tbody tr th:only-of-type {\n",
       "        vertical-align: middle;\n",
       "    }\n",
       "\n",
       "    .dataframe tbody tr th {\n",
       "        vertical-align: top;\n",
       "    }\n",
       "\n",
       "    .dataframe thead th {\n",
       "        text-align: right;\n",
       "    }\n",
       "</style>\n",
       "<table border=\"1\" class=\"dataframe\">\n",
       "  <thead>\n",
       "    <tr style=\"text-align: right;\">\n",
       "      <th></th>\n",
       "      <th>id</th>\n",
       "      <th>hump_id</th>\n",
       "      <th>locator_address_number</th>\n",
       "      <th>locator_street</th>\n",
       "      <th>pavement</th>\n",
       "      <th>speed_hump_material</th>\n",
       "      <th>neighborhood</th>\n",
       "      <th>council_district</th>\n",
       "      <th>ward</th>\n",
       "      <th>tract</th>\n",
       "      <th>public_works_division</th>\n",
       "      <th>pli_division</th>\n",
       "      <th>police_zone</th>\n",
       "      <th>fire_zone</th>\n",
       "      <th>latitude</th>\n",
       "      <th>longitude</th>\n",
       "    </tr>\n",
       "  </thead>\n",
       "  <tbody>\n",
       "    <tr>\n",
       "      <th>0</th>\n",
       "      <td>430808404</td>\n",
       "      <td>1</td>\n",
       "      <td>4337.0</td>\n",
       "      <td>Saline St</td>\n",
       "      <td>9257</td>\n",
       "      <td>Asphalt</td>\n",
       "      <td>Squirrel Hill South</td>\n",
       "      <td>5</td>\n",
       "      <td>14</td>\n",
       "      <td>42003141400</td>\n",
       "      <td>3</td>\n",
       "      <td>14</td>\n",
       "      <td>4</td>\n",
       "      <td>2-15</td>\n",
       "      <td>40.419835</td>\n",
       "      <td>-79.926062</td>\n",
       "    </tr>\n",
       "    <tr>\n",
       "      <th>1</th>\n",
       "      <td>1520886592</td>\n",
       "      <td>2</td>\n",
       "      <td>NaN</td>\n",
       "      <td>Summerset Dr</td>\n",
       "      <td>15346</td>\n",
       "      <td>NaN</td>\n",
       "      <td>Squirrel Hill South</td>\n",
       "      <td>5</td>\n",
       "      <td>14</td>\n",
       "      <td>42003141400</td>\n",
       "      <td>3</td>\n",
       "      <td>14</td>\n",
       "      <td>4</td>\n",
       "      <td>2-20</td>\n",
       "      <td>40.425040</td>\n",
       "      <td>-79.912040</td>\n",
       "    </tr>\n",
       "    <tr>\n",
       "      <th>2</th>\n",
       "      <td>858537521</td>\n",
       "      <td>3</td>\n",
       "      <td>511.0</td>\n",
       "      <td>Gold Way</td>\n",
       "      <td>1755</td>\n",
       "      <td>Asphalt</td>\n",
       "      <td>North Oakland</td>\n",
       "      <td>6</td>\n",
       "      <td>5</td>\n",
       "      <td>42003562000</td>\n",
       "      <td>3</td>\n",
       "      <td>5</td>\n",
       "      <td>4</td>\n",
       "      <td>2-23</td>\n",
       "      <td>40.456746</td>\n",
       "      <td>-79.954521</td>\n",
       "    </tr>\n",
       "    <tr>\n",
       "      <th>3</th>\n",
       "      <td>297775878</td>\n",
       "      <td>4</td>\n",
       "      <td>547.0</td>\n",
       "      <td>Gold Way</td>\n",
       "      <td>1755</td>\n",
       "      <td>Asphalt</td>\n",
       "      <td>North Oakland</td>\n",
       "      <td>6</td>\n",
       "      <td>5</td>\n",
       "      <td>42003562000</td>\n",
       "      <td>3</td>\n",
       "      <td>5</td>\n",
       "      <td>4</td>\n",
       "      <td>2-23</td>\n",
       "      <td>40.457333</td>\n",
       "      <td>-79.954899</td>\n",
       "    </tr>\n",
       "    <tr>\n",
       "      <th>4</th>\n",
       "      <td>1061197751</td>\n",
       "      <td>5</td>\n",
       "      <td>593.0</td>\n",
       "      <td>Gold Way</td>\n",
       "      <td>1755</td>\n",
       "      <td>Asphalt</td>\n",
       "      <td>North Oakland</td>\n",
       "      <td>6</td>\n",
       "      <td>5</td>\n",
       "      <td>42003562000</td>\n",
       "      <td>3</td>\n",
       "      <td>5</td>\n",
       "      <td>4</td>\n",
       "      <td>2-23</td>\n",
       "      <td>40.458061</td>\n",
       "      <td>-79.955355</td>\n",
       "    </tr>\n",
       "    <tr>\n",
       "      <th>5</th>\n",
       "      <td>25169591</td>\n",
       "      <td>10</td>\n",
       "      <td>4224.0</td>\n",
       "      <td>Saline St</td>\n",
       "      <td>4673</td>\n",
       "      <td>Asphalt</td>\n",
       "      <td>Squirrel Hill South</td>\n",
       "      <td>5</td>\n",
       "      <td>15</td>\n",
       "      <td>42003141400</td>\n",
       "      <td>3</td>\n",
       "      <td>15</td>\n",
       "      <td>4</td>\n",
       "      <td>2-15</td>\n",
       "      <td>40.422239</td>\n",
       "      <td>-79.926208</td>\n",
       "    </tr>\n",
       "    <tr>\n",
       "      <th>6</th>\n",
       "      <td>2056880845</td>\n",
       "      <td>11</td>\n",
       "      <td>2146.0</td>\n",
       "      <td>Jacob St</td>\n",
       "      <td>17688</td>\n",
       "      <td>Asphalt</td>\n",
       "      <td>Brookline</td>\n",
       "      <td>4</td>\n",
       "      <td>32</td>\n",
       "      <td>42003320600</td>\n",
       "      <td>5</td>\n",
       "      <td>32</td>\n",
       "      <td>6</td>\n",
       "      <td>4-25</td>\n",
       "      <td>40.391643</td>\n",
       "      <td>-79.999307</td>\n",
       "    </tr>\n",
       "    <tr>\n",
       "      <th>7</th>\n",
       "      <td>1735565853</td>\n",
       "      <td>12</td>\n",
       "      <td>2082.0</td>\n",
       "      <td>Jacob St</td>\n",
       "      <td>17688</td>\n",
       "      <td>Asphalt</td>\n",
       "      <td>Brookline</td>\n",
       "      <td>4</td>\n",
       "      <td>32</td>\n",
       "      <td>42003320600</td>\n",
       "      <td>5</td>\n",
       "      <td>32</td>\n",
       "      <td>6</td>\n",
       "      <td>4-25</td>\n",
       "      <td>40.392425</td>\n",
       "      <td>-79.999259</td>\n",
       "    </tr>\n",
       "    <tr>\n",
       "      <th>8</th>\n",
       "      <td>857069875</td>\n",
       "      <td>13</td>\n",
       "      <td>2013.0</td>\n",
       "      <td>Jacob St</td>\n",
       "      <td>17688</td>\n",
       "      <td>Asphalt</td>\n",
       "      <td>Brookline</td>\n",
       "      <td>4</td>\n",
       "      <td>32</td>\n",
       "      <td>42003320600</td>\n",
       "      <td>5</td>\n",
       "      <td>32</td>\n",
       "      <td>6</td>\n",
       "      <td>4-25</td>\n",
       "      <td>40.393264</td>\n",
       "      <td>-79.999401</td>\n",
       "    </tr>\n",
       "    <tr>\n",
       "      <th>9</th>\n",
       "      <td>1822275525</td>\n",
       "      <td>14</td>\n",
       "      <td>1937.0</td>\n",
       "      <td>Jacob St</td>\n",
       "      <td>17688</td>\n",
       "      <td>Asphalt</td>\n",
       "      <td>Brookline</td>\n",
       "      <td>4</td>\n",
       "      <td>32</td>\n",
       "      <td>42003320600</td>\n",
       "      <td>5</td>\n",
       "      <td>32</td>\n",
       "      <td>6</td>\n",
       "      <td>4-25</td>\n",
       "      <td>40.394180</td>\n",
       "      <td>-79.999611</td>\n",
       "    </tr>\n",
       "  </tbody>\n",
       "</table>\n",
       "</div>"
      ],
      "text/plain": [
       "           id  hump_id  locator_address_number locator_street  pavement  \\\n",
       "0   430808404        1                  4337.0      Saline St      9257   \n",
       "1  1520886592        2                     NaN   Summerset Dr     15346   \n",
       "2   858537521        3                   511.0       Gold Way      1755   \n",
       "3   297775878        4                   547.0       Gold Way      1755   \n",
       "4  1061197751        5                   593.0       Gold Way      1755   \n",
       "5    25169591       10                  4224.0      Saline St      4673   \n",
       "6  2056880845       11                  2146.0       Jacob St     17688   \n",
       "7  1735565853       12                  2082.0       Jacob St     17688   \n",
       "8   857069875       13                  2013.0       Jacob St     17688   \n",
       "9  1822275525       14                  1937.0       Jacob St     17688   \n",
       "\n",
       "  speed_hump_material         neighborhood  council_district  ward  \\\n",
       "0             Asphalt  Squirrel Hill South                 5    14   \n",
       "1                 NaN  Squirrel Hill South                 5    14   \n",
       "2             Asphalt        North Oakland                 6     5   \n",
       "3             Asphalt        North Oakland                 6     5   \n",
       "4             Asphalt        North Oakland                 6     5   \n",
       "5             Asphalt  Squirrel Hill South                 5    15   \n",
       "6             Asphalt            Brookline                 4    32   \n",
       "7             Asphalt            Brookline                 4    32   \n",
       "8             Asphalt            Brookline                 4    32   \n",
       "9             Asphalt            Brookline                 4    32   \n",
       "\n",
       "         tract  public_works_division  pli_division  police_zone fire_zone  \\\n",
       "0  42003141400                      3            14            4      2-15   \n",
       "1  42003141400                      3            14            4      2-20   \n",
       "2  42003562000                      3             5            4      2-23   \n",
       "3  42003562000                      3             5            4      2-23   \n",
       "4  42003562000                      3             5            4      2-23   \n",
       "5  42003141400                      3            15            4      2-15   \n",
       "6  42003320600                      5            32            6      4-25   \n",
       "7  42003320600                      5            32            6      4-25   \n",
       "8  42003320600                      5            32            6      4-25   \n",
       "9  42003320600                      5            32            6      4-25   \n",
       "\n",
       "    latitude  longitude  \n",
       "0  40.419835 -79.926062  \n",
       "1  40.425040 -79.912040  \n",
       "2  40.456746 -79.954521  \n",
       "3  40.457333 -79.954899  \n",
       "4  40.458061 -79.955355  \n",
       "5  40.422239 -79.926208  \n",
       "6  40.391643 -79.999307  \n",
       "7  40.392425 -79.999259  \n",
       "8  40.393264 -79.999401  \n",
       "9  40.394180 -79.999611  "
      ]
     },
     "execution_count": 5,
     "metadata": {},
     "output_type": "execute_result"
    }
   ],
   "source": [
    "speed_humps_data = pd.read_csv(\"speed_humps.csv\")\n",
    "speed_humps_data.head(10)"
   ]
  },
  {
   "cell_type": "markdown",
   "metadata": {},
   "source": [
    "Most of this data isnt useful to us so lets narrow it down to how many times each neighborhood is mentioned in the data\n",
    "\n",
    "This is helpful because this will now sort the data by neighborhood and speed bump count rather than each speed bumps id and all of its data"
   ]
  },
  {
   "cell_type": "code",
   "execution_count": 7,
   "metadata": {},
   "outputs": [
    {
     "data": {
      "text/plain": [
       "Squirrel Hill South    18\n",
       "Carrick                 9\n",
       "North Oakland           6\n",
       "Polish Hill             6\n",
       "Upper Hill              4\n",
       "Perry North             4\n",
       "South Side Slopes       4\n",
       "Homewood South          4\n",
       "Brookline               4\n",
       "Garfield                3\n",
       "Name: neighborhood, dtype: int64"
      ]
     },
     "execution_count": 7,
     "metadata": {},
     "output_type": "execute_result"
    }
   ],
   "source": [
    "humps_per_hood = speed_humps_data[\"neighborhood\"].value_counts()\n",
    "humps_per_hood.head(10)"
   ]
  },
  {
   "cell_type": "markdown",
   "metadata": {},
   "source": [
    "## Visualizing the Data"
   ]
  },
  {
   "cell_type": "code",
   "execution_count": 8,
   "metadata": {},
   "outputs": [
    {
     "data": {
      "text/plain": [
       "<matplotlib.axes._subplots.AxesSubplot at 0x7fb1fe8b7520>"
      ]
     },
     "execution_count": 8,
     "metadata": {},
     "output_type": "execute_result"
    },
    {
     "data": {
      "image/png": "[encoded data removed]",
      "text/plain": [
       "<Figure size 432x288 with 1 Axes>"
      ]
     },
     "metadata": {
      "needs_background": "light"
     },
     "output_type": "display_data"
    }
   ],
   "source": [
    "humps_per_hood.plot.bar()"
   ]
  },
  {
   "cell_type": "code",
   "execution_count": 9,
   "metadata": {},
   "outputs": [
    {
     "data": {
      "text/plain": [
       "<matplotlib.axes._subplots.AxesSubplot at 0x7fb1f812c550>"
      ]
     },
     "execution_count": 9,
     "metadata": {},
     "output_type": "execute_result"
    },
    {
     "data": {
      "image/png": "[encoded data removed]",
      "text/plain": [
       "<Figure size 432x288 with 1 Axes>"
      ]
     },
     "metadata": {
      "needs_background": "light"
     },
     "output_type": "display_data"
    }
   ],
   "source": [
    "humps_per_hood.head(10).plot.bar()"
   ]
  },
  {
   "cell_type": "code",
   "execution_count": 17,
   "metadata": {},
   "outputs": [
    {
     "data": {
      "text/html": [
       "<div>\n",
       "<style scoped>\n",
       "    .dataframe tbody tr th:only-of-type {\n",
       "        vertical-align: middle;\n",
       "    }\n",
       "\n",
       "    .dataframe tbody tr th {\n",
       "        vertical-align: top;\n",
       "    }\n",
       "\n",
       "    .dataframe thead th {\n",
       "        text-align: right;\n",
       "    }\n",
       "</style>\n",
       "<table border=\"1\" class=\"dataframe\">\n",
       "  <thead>\n",
       "    <tr style=\"text-align: right;\">\n",
       "      <th></th>\n",
       "      <th>neighborhood</th>\n",
       "      <th>humps</th>\n",
       "    </tr>\n",
       "  </thead>\n",
       "  <tbody>\n",
       "    <tr>\n",
       "      <th>0</th>\n",
       "      <td>Squirrel Hill South</td>\n",
       "      <td>18</td>\n",
       "    </tr>\n",
       "    <tr>\n",
       "      <th>1</th>\n",
       "      <td>Carrick</td>\n",
       "      <td>9</td>\n",
       "    </tr>\n",
       "    <tr>\n",
       "      <th>2</th>\n",
       "      <td>North Oakland</td>\n",
       "      <td>6</td>\n",
       "    </tr>\n",
       "    <tr>\n",
       "      <th>3</th>\n",
       "      <td>Polish Hill</td>\n",
       "      <td>6</td>\n",
       "    </tr>\n",
       "    <tr>\n",
       "      <th>4</th>\n",
       "      <td>Upper Hill</td>\n",
       "      <td>4</td>\n",
       "    </tr>\n",
       "    <tr>\n",
       "      <th>5</th>\n",
       "      <td>Perry North</td>\n",
       "      <td>4</td>\n",
       "    </tr>\n",
       "    <tr>\n",
       "      <th>6</th>\n",
       "      <td>South Side Slopes</td>\n",
       "      <td>4</td>\n",
       "    </tr>\n",
       "    <tr>\n",
       "      <th>7</th>\n",
       "      <td>Homewood South</td>\n",
       "      <td>4</td>\n",
       "    </tr>\n",
       "    <tr>\n",
       "      <th>8</th>\n",
       "      <td>Brookline</td>\n",
       "      <td>4</td>\n",
       "    </tr>\n",
       "    <tr>\n",
       "      <th>9</th>\n",
       "      <td>Garfield</td>\n",
       "      <td>3</td>\n",
       "    </tr>\n",
       "  </tbody>\n",
       "</table>\n",
       "</div>"
      ],
      "text/plain": [
       "          neighborhood  humps\n",
       "0  Squirrel Hill South     18\n",
       "1              Carrick      9\n",
       "2        North Oakland      6\n",
       "3          Polish Hill      6\n",
       "4           Upper Hill      4\n",
       "5          Perry North      4\n",
       "6    South Side Slopes      4\n",
       "7       Homewood South      4\n",
       "8            Brookline      4\n",
       "9             Garfield      3"
      ]
     },
     "execution_count": 17,
     "metadata": {},
     "output_type": "execute_result"
    }
   ],
   "source": [
    "humps_data = pd.DataFrame({\"neighborhood\" : humps_per_hood.axes[0], \"humps\" : humps_per_hood.values})\n",
    "hmax = humps_data[\"humps\"].max()\n",
    "humps_data.head(10)"
   ]
  },
  {
   "cell_type": "code",
   "execution_count": 21,
   "metadata": {},
   "outputs": [
    {
     "data": {
      "text/html": [
       "<div>\n",
       "<style scoped>\n",
       "    .dataframe tbody tr th:only-of-type {\n",
       "        vertical-align: middle;\n",
       "    }\n",
       "\n",
       "    .dataframe tbody tr th {\n",
       "        vertical-align: top;\n",
       "    }\n",
       "\n",
       "    .dataframe thead th {\n",
       "        text-align: right;\n",
       "    }\n",
       "</style>\n",
       "<table border=\"1\" class=\"dataframe\">\n",
       "  <thead>\n",
       "    <tr style=\"text-align: right;\">\n",
       "      <th></th>\n",
       "      <th>neighborhood</th>\n",
       "      <th>humps</th>\n",
       "    </tr>\n",
       "  </thead>\n",
       "  <tbody>\n",
       "    <tr>\n",
       "      <th>13</th>\n",
       "      <td>Mount Washington</td>\n",
       "      <td>3</td>\n",
       "    </tr>\n",
       "    <tr>\n",
       "      <th>14</th>\n",
       "      <td>Highland Park</td>\n",
       "      <td>2</td>\n",
       "    </tr>\n",
       "    <tr>\n",
       "      <th>15</th>\n",
       "      <td>Stanton Heights</td>\n",
       "      <td>1</td>\n",
       "    </tr>\n",
       "    <tr>\n",
       "      <th>16</th>\n",
       "      <td>Overbrook</td>\n",
       "      <td>1</td>\n",
       "    </tr>\n",
       "    <tr>\n",
       "      <th>17</th>\n",
       "      <td>Central Oakland</td>\n",
       "      <td>1</td>\n",
       "    </tr>\n",
       "  </tbody>\n",
       "</table>\n",
       "</div>"
      ],
      "text/plain": [
       "        neighborhood  humps\n",
       "13  Mount Washington      3\n",
       "14     Highland Park      2\n",
       "15   Stanton Heights      1\n",
       "16         Overbrook      1\n",
       "17   Central Oakland      1"
      ]
     },
     "execution_count": 21,
     "metadata": {},
     "output_type": "execute_result"
    }
   ],
   "source": [
    "humps_data.tail(5)"
   ]
  },
  {
   "cell_type": "markdown",
   "metadata": {},
   "source": [
    "Lets normalize all of this data to 1 meaning that the neighborhood that has the most speed bumps will get a score of 1 and the others will get a score based on its percentage of the max"
   ]
  },
  {
   "cell_type": "code",
   "execution_count": 11,
   "metadata": {},
   "outputs": [
    {
     "data": {
      "text/html": [
       "<div>\n",
       "<style scoped>\n",
       "    .dataframe tbody tr th:only-of-type {\n",
       "        vertical-align: middle;\n",
       "    }\n",
       "\n",
       "    .dataframe tbody tr th {\n",
       "        vertical-align: top;\n",
       "    }\n",
       "\n",
       "    .dataframe thead th {\n",
       "        text-align: right;\n",
       "    }\n",
       "</style>\n",
       "<table border=\"1\" class=\"dataframe\">\n",
       "  <thead>\n",
       "    <tr style=\"text-align: right;\">\n",
       "      <th></th>\n",
       "      <th>neighborhood</th>\n",
       "      <th>humps</th>\n",
       "    </tr>\n",
       "  </thead>\n",
       "  <tbody>\n",
       "    <tr>\n",
       "      <th>0</th>\n",
       "      <td>Squirrel Hill South</td>\n",
       "      <td>1.000000</td>\n",
       "    </tr>\n",
       "    <tr>\n",
       "      <th>1</th>\n",
       "      <td>Carrick</td>\n",
       "      <td>0.500000</td>\n",
       "    </tr>\n",
       "    <tr>\n",
       "      <th>2</th>\n",
       "      <td>North Oakland</td>\n",
       "      <td>0.333333</td>\n",
       "    </tr>\n",
       "    <tr>\n",
       "      <th>3</th>\n",
       "      <td>Polish Hill</td>\n",
       "      <td>0.333333</td>\n",
       "    </tr>\n",
       "    <tr>\n",
       "      <th>4</th>\n",
       "      <td>Upper Hill</td>\n",
       "      <td>0.222222</td>\n",
       "    </tr>\n",
       "    <tr>\n",
       "      <th>5</th>\n",
       "      <td>Perry North</td>\n",
       "      <td>0.222222</td>\n",
       "    </tr>\n",
       "    <tr>\n",
       "      <th>6</th>\n",
       "      <td>South Side Slopes</td>\n",
       "      <td>0.222222</td>\n",
       "    </tr>\n",
       "    <tr>\n",
       "      <th>7</th>\n",
       "      <td>Homewood South</td>\n",
       "      <td>0.222222</td>\n",
       "    </tr>\n",
       "    <tr>\n",
       "      <th>8</th>\n",
       "      <td>Brookline</td>\n",
       "      <td>0.222222</td>\n",
       "    </tr>\n",
       "    <tr>\n",
       "      <th>9</th>\n",
       "      <td>Garfield</td>\n",
       "      <td>0.166667</td>\n",
       "    </tr>\n",
       "  </tbody>\n",
       "</table>\n",
       "</div>"
      ],
      "text/plain": [
       "          neighborhood     humps\n",
       "0  Squirrel Hill South  1.000000\n",
       "1              Carrick  0.500000\n",
       "2        North Oakland  0.333333\n",
       "3          Polish Hill  0.333333\n",
       "4           Upper Hill  0.222222\n",
       "5          Perry North  0.222222\n",
       "6    South Side Slopes  0.222222\n",
       "7       Homewood South  0.222222\n",
       "8            Brookline  0.222222\n",
       "9             Garfield  0.166667"
      ]
     },
     "execution_count": 11,
     "metadata": {},
     "output_type": "execute_result"
    }
   ],
   "source": [
    "humps_data_normal = pd.DataFrame({\"neighborhood\" : humps_per_hood.axes[0], \"humps\" : humps_per_hood.values/hmax})\n",
    "humps_data_normal.head(10)"
   ]
  },
  {
   "cell_type": "code",
   "execution_count": 20,
   "metadata": {},
   "outputs": [
    {
     "data": {
      "text/html": [
       "<div>\n",
       "<style scoped>\n",
       "    .dataframe tbody tr th:only-of-type {\n",
       "        vertical-align: middle;\n",
       "    }\n",
       "\n",
       "    .dataframe tbody tr th {\n",
       "        vertical-align: top;\n",
       "    }\n",
       "\n",
       "    .dataframe thead th {\n",
       "        text-align: right;\n",
       "    }\n",
       "</style>\n",
       "<table border=\"1\" class=\"dataframe\">\n",
       "  <thead>\n",
       "    <tr style=\"text-align: right;\">\n",
       "      <th></th>\n",
       "      <th>neighborhood</th>\n",
       "      <th>humps</th>\n",
       "    </tr>\n",
       "  </thead>\n",
       "  <tbody>\n",
       "    <tr>\n",
       "      <th>13</th>\n",
       "      <td>Mount Washington</td>\n",
       "      <td>0.166667</td>\n",
       "    </tr>\n",
       "    <tr>\n",
       "      <th>14</th>\n",
       "      <td>Highland Park</td>\n",
       "      <td>0.111111</td>\n",
       "    </tr>\n",
       "    <tr>\n",
       "      <th>15</th>\n",
       "      <td>Stanton Heights</td>\n",
       "      <td>0.055556</td>\n",
       "    </tr>\n",
       "    <tr>\n",
       "      <th>16</th>\n",
       "      <td>Overbrook</td>\n",
       "      <td>0.055556</td>\n",
       "    </tr>\n",
       "    <tr>\n",
       "      <th>17</th>\n",
       "      <td>Central Oakland</td>\n",
       "      <td>0.055556</td>\n",
       "    </tr>\n",
       "  </tbody>\n",
       "</table>\n",
       "</div>"
      ],
      "text/plain": [
       "        neighborhood     humps\n",
       "13  Mount Washington  0.166667\n",
       "14     Highland Park  0.111111\n",
       "15   Stanton Heights  0.055556\n",
       "16         Overbrook  0.055556\n",
       "17   Central Oakland  0.055556"
      ]
     },
     "execution_count": 20,
     "metadata": {},
     "output_type": "execute_result"
    }
   ],
   "source": [
    "humps_data_normal.tail(5)"
   ]
  },
  {
   "cell_type": "markdown",
   "metadata": {},
   "source": [
    "# Finally, Applying the Data\n",
    "\n",
    "Now lets apply the speed bumps data to a map of pittsburgh. The darker the neighborhood is colored, the more speed bumps it has"
   ]
  },
  {
   "cell_type": "code",
   "execution_count": 12,
   "metadata": {},
   "outputs": [
    {
     "data": {
      "image/png": "[encoded data removed]",
      "text/plain": [
       "<Figure size 1080x720 with 2 Axes>"
      ]
     },
     "metadata": {
      "needs_background": "light"
     },
     "output_type": "display_data"
    }
   ],
   "source": [
    "hoods = geopandas.read_file(\"Neighborhoods/Neighborhoods_.shp\")\n",
    "humps_map = hoods.merge(humps_data, how=\"left\", left_on=\"hood\", right_on=\"neighborhood\")\n",
    "humps_map.plot(column=\"humps\", legend=True, legend_kwds={\"label\": \"Number of Speed Humps\"}, figsize=(15,10), missing_kwds={\"color\": \"lightgrey\"}, cmap=\"OrRd\")\n",
    "plt.style.use('seaborn')"
   ]
  },
  {
   "cell_type": "markdown",
   "metadata": {},
   "source": [
    "# Conclusion\n",
    "Based on the data, it is very clear that Squirrel Hill South is the worst neighborhood to hold a race in. With 18 speed bumps(which is double the amount the next worst neighborhood has) it would be very difficult to race around these streets. There is a 3 way tie for first place with one speed bump a piece. These neighborhoods are Central Oakland, Overbrook, Stanton Heights"
   ]
  }
 ],
 "metadata": {
  "kernelspec": {
   "display_name": "Python 3",
   "language": "python",
   "name": "python3"
  },
  "language_info": {
   "codemirror_mode": {
    "name": "ipython",
    "version": 3
   },
   "file_extension": ".py",
   "mimetype": "text/x-python",
   "name": "python",
   "nbconvert_exporter": "python",
   "pygments_lexer": "ipython3",
   "version": "3.8.3"
  }
 },
 "nbformat": 4,
 "nbformat_minor": 4
}
